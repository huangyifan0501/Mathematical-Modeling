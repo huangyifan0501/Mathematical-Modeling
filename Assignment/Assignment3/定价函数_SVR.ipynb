{
 "cells": [
  {
   "cell_type": "code",
   "execution_count": 2,
   "metadata": {},
   "outputs": [],
   "source": [
    "import numpy as np\n",
    "import pandas as pd\n",
    "from sklearn.utils import shuffle\n",
    "from sklearn import linear_model\n",
    "from sklearn import preprocessing\n",
    "import matplotlib.pyplot as plt\n",
    "import sys\n",
    "from io import StringIO\n",
    "from sklearn import metrics\n",
    "from sklearn.preprocessing import StandardScaler\n",
    "from sklearn import svm"
   ]
  },
  {
   "cell_type": "code",
   "execution_count": 51,
   "metadata": {},
   "outputs": [],
   "source": [
    "#导入数据\n",
    "area=pd.read_excel('任务区域.xls').iloc[:,1].to_list()\n",
    "vip_1=pd.read_excel('会员系数详细.xlsx').iloc[:,2].to_list()\n",
    "vip_2=pd.read_excel('会员系数详细.xlsx').iloc[:,3].to_list()\n",
    "vip_3=pd.read_excel('会员系数详细.xlsx').iloc[:,4].to_list()\n",
    "price=pd.read_excel('./Problem/附件一：已结束项目任务数据.xls').iloc[:,3].to_list()\n",
    "label=pd.read_excel('./Problem/附件一：已结束项目任务数据.xls').iloc[:,4].to_list()\n",
    "\n",
    "data_finish=[]\n",
    "data_unfinish=[]\n",
    "data=[]\n",
    "\n",
    "for i in range(0,len(area)):\n",
    "    carry=[]\n",
    "    carry.append(area[i])\n",
    "    carry.append(vip_1[i])\n",
    "    carry.append(vip_2[i])\n",
    "    carry.append(vip_3[i])\n",
    "    carry.append(price[i])\n",
    "    data.append(carry)\n",
    "    \n",
    "    if label[i]==1:\n",
    "        data_finish.append(carry)\n",
    "    else:\n",
    "        data_unfinish.append(carry)\n",
    "        \n",
    "data_finish=pd.DataFrame(data_finish)\n",
    "data_unfinish=pd.DataFrame(data_unfinish)\n",
    "data=pd.DataFrame(data)\n",
    "\n",
    "#将样本顺序打乱\n",
    "data_finish=shuffle(data_finish)\n",
    "\n",
    "X=data_finish.iloc[:,:4]\n",
    "y=data_finish.iloc[:,4]\n",
    "scaler = StandardScaler()\n",
    "X=pd.DataFrame(scaler.fit_transform(X))\n",
    "\n",
    "#划分训练集、测试集\n",
    "bench=int(0.8*len(data_finish))\n",
    "X_train=X.iloc[:bench]\n",
    "X_test=X.iloc[bench:]\n",
    "y_train=y.iloc[:bench]\n",
    "y_test=y.iloc[bench:]"
   ]
  },
  {
   "cell_type": "code",
   "execution_count": 44,
   "metadata": {},
   "outputs": [],
   "source": [
    "def evaluate_model(model,X,y):\n",
    "    \n",
    "    y_pred=model.predict(X)\n",
    "    count=0\n",
    "    for i in range(len(y_pred)):\n",
    "        if y_pred[i]<=y.iloc[i]+3 and y_pred[i]>=y.iloc[i]-3:\n",
    "            count=count+1\n",
    "    return count/len(y_pred)"
   ]
  },
  {
   "cell_type": "code",
   "execution_count": 46,
   "metadata": {},
   "outputs": [
    {
     "name": "stdout",
     "output_type": "stream",
     "text": [
      "0.7458033573141487\n",
      "0.8095238095238095\n"
     ]
    }
   ],
   "source": [
    "clf=svm.SVR(C=1, gamma='scale')\n",
    "clf.fit(X_train,y_train)\n",
    "print(evaluate_model(clf,X_train,y_train))\n",
    "print(evaluate_model(clf,X_test,y_test))"
   ]
  },
  {
   "cell_type": "code",
   "execution_count": 55,
   "metadata": {},
   "outputs": [],
   "source": [
    "X_new=data.iloc[:,:4]\n",
    "scaler = StandardScaler()\n",
    "X_new=pd.DataFrame(scaler.fit_transform(X_new))\n",
    "y_new=clf.predict(X_new)\n",
    "column=['price']\n",
    "result=pd.DataFrame(columns=column, data=y_new)\n",
    "result.to_excel('新定价策略.xls')"
   ]
  }
 ],
 "metadata": {
  "kernelspec": {
   "display_name": "Python 3",
   "language": "python",
   "name": "python3"
  },
  "language_info": {
   "codemirror_mode": {
    "name": "ipython",
    "version": 3
   },
   "file_extension": ".py",
   "mimetype": "text/x-python",
   "name": "python",
   "nbconvert_exporter": "python",
   "pygments_lexer": "ipython3",
   "version": "3.7.4"
  }
 },
 "nbformat": 4,
 "nbformat_minor": 2
}
