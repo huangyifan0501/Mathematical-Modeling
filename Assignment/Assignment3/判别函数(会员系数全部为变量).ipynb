{
 "cells": [
  {
   "cell_type": "code",
   "execution_count": 251,
   "metadata": {},
   "outputs": [],
   "source": [
    "import numpy as np\n",
    "import pandas as pd\n",
    "from sklearn.pipeline import make_pipeline\n",
    "from sklearn.preprocessing import StandardScaler\n",
    "from sklearn.preprocessing import normalize\n",
    "import random"
   ]
  },
  {
   "cell_type": "code",
   "execution_count": 270,
   "metadata": {},
   "outputs": [],
   "source": [
    "#导入数据\n",
    "area=pd.read_excel('任务区域.xls').iloc[:,1].to_list()\n",
    "vip_1=pd.read_excel('会员系数详细.xlsx').iloc[:,2].to_list()\n",
    "vip_2=pd.read_excel('会员系数详细.xlsx').iloc[:,3].to_list()\n",
    "vip_3=pd.read_excel('会员系数详细.xlsx').iloc[:,4].to_list()\n",
    "price=pd.read_excel('./Problem/附件一：已结束项目任务数据.xls').iloc[:,3].to_list()\n",
    "label=pd.read_excel('./Problem/附件一：已结束项目任务数据.xls').iloc[:,4].to_list()\n",
    "\n",
    "data=[]\n",
    "for i in range(0,len(area)):\n",
    "    carry=[]\n",
    "    carry.append(area[i])\n",
    "    carry.append(vip_1[i])\n",
    "    carry.append(vip_2[i])\n",
    "    carry.append(vip_3[i])\n",
    "    carry.append(price[i])\n",
    "    carry.append(label[i])\n",
    "    data.append(carry)\n",
    "\n",
    "#将样本顺序打乱\n",
    "random.shuffle(data)\n",
    "\n",
    "#划分训练集、测试集\n",
    "bench=int(0.99*len(data))\n",
    "data=pd.DataFrame(data)\n",
    "\n",
    "X_train=np.array(data.iloc[:bench,:5])\n",
    "X_test=np.array(data.iloc[bench:,:5])\n",
    "y_train=data.iloc[:bench,5]\n",
    "y_test=data.iloc[bench:,5]"
   ]
  },
  {
   "cell_type": "code",
   "execution_count": 274,
   "metadata": {},
   "outputs": [
    {
     "name": "stdout",
     "output_type": "stream",
     "text": [
      "0.9818401937046005\n",
      "0.7777777777777778\n"
     ]
    }
   ],
   "source": [
    "from sklearn.ensemble import RandomForestClassifier\n",
    "clf=RandomForestClassifier(n_jobs=-1, criterion='gini', n_estimators=1000)\n",
    "clf.fit(X_train,y_train)\n",
    "# 测试模型\n",
    "print(clf.score(X_train,y_train))\n",
    "print(clf.score(X_test,y_test))"
   ]
  },
  {
   "cell_type": "code",
   "execution_count": 273,
   "metadata": {},
   "outputs": [
    {
     "name": "stdout",
     "output_type": "stream",
     "text": [
      "新定价策略的完成率为 0.6550898203592814\n",
      "旧定价策略的完成率为 0.6251497005988024\n",
      "新定价策略的总价为 57561.4043475256\n",
      "旧定价策略的总价为 57707.5\n"
     ]
    }
   ],
   "source": [
    "#对新的定价策略进行分析\n",
    "area=pd.read_excel('任务区域.xls').iloc[:,1].to_list()\n",
    "vip_1=pd.read_excel('会员系数详细.xlsx').iloc[:,2].to_list()\n",
    "vip_2=pd.read_excel('会员系数详细.xlsx').iloc[:,3].to_list()\n",
    "vip_3=pd.read_excel('会员系数详细.xlsx').iloc[:,4].to_list()\n",
    "price=pd.read_excel('新定价策略.xls').iloc[:,1].to_list()\n",
    "\n",
    "data_new=[]\n",
    "for i in range(0,len(area)):\n",
    "    carry=[]\n",
    "    carry.append(area[i])\n",
    "    carry.append(vip_1[i])\n",
    "    carry.append(vip_2[i])\n",
    "    carry.append(vip_3[i])\n",
    "    carry.append(price[i])\n",
    "    data_new.append(carry)\n",
    "\n",
    "data_new=pd.DataFrame(data_new)\n",
    "y=clf.predict(data_new)\n",
    "\n",
    "amount=len(data)\n",
    "print('新定价策略的完成率为',sum(y)/amount)\n",
    "print('旧定价策略的完成率为',sum(data.iloc[:,5])/amount)\n",
    "print('新定价策略的总价为',sum(price))\n",
    "print('旧定价策略的总价为',sum(X_train[:,4])+sum(X_test[:,4]))"
   ]
  }
 ],
 "metadata": {
  "kernelspec": {
   "display_name": "Python 3",
   "language": "python",
   "name": "python3"
  },
  "language_info": {
   "codemirror_mode": {
    "name": "ipython",
    "version": 3
   },
   "file_extension": ".py",
   "mimetype": "text/x-python",
   "name": "python",
   "nbconvert_exporter": "python",
   "pygments_lexer": "ipython3",
   "version": "3.7.4"
  }
 },
 "nbformat": 4,
 "nbformat_minor": 2
}
