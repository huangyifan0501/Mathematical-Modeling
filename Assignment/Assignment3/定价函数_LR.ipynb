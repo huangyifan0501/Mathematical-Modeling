{
 "cells": [
  {
   "cell_type": "code",
   "execution_count": 1,
   "metadata": {},
   "outputs": [],
   "source": [
    "import numpy as np\n",
    "import pandas as pd\n",
    "from sklearn.utils import shuffle\n",
    "from sklearn import linear_model\n",
    "from sklearn import preprocessing\n",
    "import matplotlib.pyplot as plt\n",
    "import sys\n",
    "from io import StringIO\n",
    "from sklearn import metrics\n",
    "from sklearn.preprocessing import StandardScaler\n",
    "from sklearn import svm"
   ]
  },
  {
   "cell_type": "code",
   "execution_count": 27,
   "metadata": {},
   "outputs": [],
   "source": [
    "#导入数据\n",
    "area=pd.read_excel('任务区域.xls').iloc[:,1].to_list()\n",
    "vip_1=pd.read_excel('会员系数详细.xlsx').iloc[:,2].to_list()\n",
    "vip_2=pd.read_excel('会员系数详细.xlsx').iloc[:,3].to_list()\n",
    "vip_3=pd.read_excel('会员系数详细.xlsx').iloc[:,4].to_list()\n",
    "price=pd.read_excel('./Problem/附件一：已结束项目任务数据.xls').iloc[:,3].to_list()\n",
    "label=pd.read_excel('./Problem/附件一：已结束项目任务数据.xls').iloc[:,4].to_list()\n",
    "\n",
    "data_finish=[]\n",
    "data_unfinish=[]\n",
    "for i in range(0,len(area)):\n",
    "    carry=[]\n",
    "    carry.append(area[i])\n",
    "    carry.append(vip_1[i])\n",
    "    carry.append(vip_2[i])\n",
    "    carry.append(vip_3[i])\n",
    "    carry.append(price[i])\n",
    "\n",
    "    if label[i]==1:\n",
    "        data_finish.append(carry)\n",
    "    else:\n",
    "        data_unfinish.append(carry)\n",
    "data_finish=pd.DataFrame(data_finish)\n",
    "data_unfinish=pd.DataFrame(data_unfinish)\n",
    "\n",
    "#将样本顺序打乱\n",
    "data_finish=shuffle(data_finish)\n",
    "\n",
    "X=data_finish.iloc[:,:4]\n",
    "y=data_finish.iloc[:,4]\n",
    "\n",
    "#准备多项式特征\n",
    "poly=preprocessing.PolynomialFeatures(4)\n",
    "X=poly.fit_transform(X)\n",
    "scaler = StandardScaler()\n",
    "X=pd.DataFrame(scaler.fit_transform(X))\n",
    "\n",
    "#划分训练集、测试集\n",
    "bench=int(0.85*len(data_finish))\n",
    "X_train=X.iloc[:bench]\n",
    "X_test=X.iloc[bench:]\n",
    "y_train=y.iloc[:bench]\n",
    "y_test=y.iloc[bench:]"
   ]
  },
  {
   "cell_type": "code",
   "execution_count": 3,
   "metadata": {},
   "outputs": [],
   "source": [
    "def evaluate_model(model,X,y):\n",
    "    \n",
    "    y_pred=model.predict(X)\n",
    "    count=0\n",
    "    for i in range(len(y_pred)):\n",
    "        if y_pred[i]<=y.iloc[i]+3 and y_pred[i]>=y.iloc[i]-3:\n",
    "            count=count+1\n",
    "    return count/len(y_pred),metrics.mean_squared_error(y,y_pred)"
   ]
  },
  {
   "cell_type": "code",
   "execution_count": 30,
   "metadata": {},
   "outputs": [
    {
     "name": "stdout",
     "output_type": "stream",
     "text": [
      "模型训练准确率为: 0.7155756207674944\n",
      "模型训练均方误差为: 15.186534395748845\n",
      "模型测试准确率为: 0.7341772151898734\n",
      "模型测试均方误差为: 9.638447504403109\n"
     ]
    }
   ],
   "source": [
    "# 模型训练\n",
    "ridge_reg=linear_model.Ridge()\n",
    "ridge_reg.fit(X_train,y_train)\n",
    "\n",
    "# 训练集准确率和均方差\n",
    "accuracy_rate_pr_train, mse_pr_train = evaluate_model(ridge_reg, X_train, y_train)\n",
    "print('模型训练准确率为:', accuracy_rate_pr_train)\n",
    "print('模型训练均方误差为:', mse_pr_train)\n",
    "\n",
    "# 测试集准确率和均方差\n",
    "accuracy_rate_pr_test, mse_pr_test = evaluate_model(ridge_reg, X_test, y_test)\n",
    "print('模型测试准确率为:', accuracy_rate_pr_test)\n",
    "print('模型测试均方误差为:', mse_pr_test)"
   ]
  },
  {
   "cell_type": "code",
   "execution_count": 31,
   "metadata": {},
   "outputs": [
    {
     "data": {
      "text/plain": [
       "array([ 0.        ,  1.99474289, -5.21407797,  0.99431422, -1.55460128,\n",
       "       -2.45772744, -1.10537664,  1.05602295, -0.60434214,  1.46885274,\n",
       "        1.86908719,  0.2447932 , -0.19091655, -0.52793028,  0.79591486,\n",
       "       -1.42036745,  1.02505587, -1.10914271, -0.07302765,  0.30154919,\n",
       "        0.95145949, -0.6685586 , -0.00789838,  0.15816964,  0.89636453,\n",
       "        0.87469916,  0.90662204,  0.66378614, -0.44970465, -0.20152596,\n",
       "        0.6584298 , -0.02097733,  0.01469693, -0.1053392 ,  0.00572243,\n",
       "        2.21867176,  3.20272434, -2.27714285,  0.37521195, -0.34651717,\n",
       "       -1.66011786, -1.01520508, -1.28273534,  0.74516932,  1.33972352,\n",
       "        0.38352464,  1.0986176 , -0.26550764,  0.13145667, -0.23198037,\n",
       "        0.78917172,  1.17677719,  0.50992377, -0.88073651, -0.77381073,\n",
       "       -1.29306308, -0.43900952,  0.09590159, -0.44945093, -0.16578477,\n",
       "       -0.12405401, -0.84942563, -0.42934456,  0.12921507,  0.5382224 ,\n",
       "       -0.08547052,  0.1579813 ,  0.23279295, -0.45608559, -0.61302091])"
      ]
     },
     "execution_count": 31,
     "metadata": {},
     "output_type": "execute_result"
    }
   ],
   "source": [
    "ridge_reg.coef_"
   ]
  }
 ],
 "metadata": {
  "kernelspec": {
   "display_name": "Python 3",
   "language": "python",
   "name": "python3"
  },
  "language_info": {
   "codemirror_mode": {
    "name": "ipython",
    "version": 3
   },
   "file_extension": ".py",
   "mimetype": "text/x-python",
   "name": "python",
   "nbconvert_exporter": "python",
   "pygments_lexer": "ipython3",
   "version": "3.7.4"
  }
 },
 "nbformat": 4,
 "nbformat_minor": 2
}
